{
 "cells": [
  {
   "cell_type": "markdown",
   "metadata": {},
   "source": [
    "# Generating Adversarial Images\n",
    "Author: [Sooham Rafiz](http://github.com/sooham)"
   ]
  },
  {
   "cell_type": "markdown",
   "metadata": {},
   "source": [
    "## Code and Reproduction\n",
    "\n",
    "The tensorflow code for my solution is hosted at [[Link](https://github.com/sooham/AdversarialImages)].\n",
    "\n",
    "The files of importance are described below:\n",
    "\n",
    "* *covnet_model.py*  [[Link](https://github.com/sooham/AdversarialImages/blob/master/covnet_model.py)] implements the CNN architecture.\n",
    "* _adversarial.py_ [[Link](https://github.com/sooham/AdversarialImages/blob/master/adversarial.py)] implements adversarial image generation on top of the CNN."
   ]
  },
  {
   "cell_type": "markdown",
   "metadata": {},
   "source": [
    "My solution is written using __tensorflow r0.11__ which is incompatible with the latest revison, run `pip install -r requirements.txt` to install all dependencies.\n",
    "\n",
    "To train the CNN run `python covnet_model.py`, and launch [Tensorboard](https://www.tensorflow.org/versions/r0.11/how_tos/summaries_and_tensorboard/) to visualize learning. You get the option to save your model in the __save__ directory.\n",
    "\n",
    "To generate adversarial images run `python adversarial.py` and input saved model state (or let the default run).\n",
    "The program will output the training progress and then displays the original image, delta and adversarial image on screen with the option to save."
   ]
  },
  {
   "cell_type": "markdown",
   "metadata": {
    "collapsed": true
   },
   "source": [
    "## Adversarial Image Generation"
   ]
  },
  {
   "cell_type": "markdown",
   "metadata": {},
   "source": [
    "## Discussion on Observations"
   ]
  },
  {
   "cell_type": "markdown",
   "metadata": {
    "collapsed": true
   },
   "source": [
    "## Attribution"
   ]
  },
  {
   "cell_type": "markdown",
   "metadata": {},
   "source": [
    "* The CNN architecture was modelled after the _Deep MNIST for Experts_ article [[Link](https://www.tensorflow.org/versions/r0.11/tutorials/mnist/pros/)]."
   ]
  }
 ],
 "metadata": {
  "kernelspec": {
   "display_name": "Python 2",
   "language": "python",
   "name": "python2"
  },
  "language_info": {
   "codemirror_mode": {
    "name": "ipython",
    "version": 2
   },
   "file_extension": ".py",
   "mimetype": "text/x-python",
   "name": "python",
   "nbconvert_exporter": "python",
   "pygments_lexer": "ipython2",
   "version": "2.7.12"
  }
 },
 "nbformat": 4,
 "nbformat_minor": 1
}
